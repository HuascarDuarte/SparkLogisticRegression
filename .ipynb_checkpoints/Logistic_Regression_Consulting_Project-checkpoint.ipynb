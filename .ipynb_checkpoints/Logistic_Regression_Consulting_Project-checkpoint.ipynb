{
 "cells": [
  {
   "cell_type": "markdown",
   "metadata": {},
   "source": [
    "# Logistic Regression Consulting Project"
   ]
  },
  {
   "cell_type": "markdown",
   "metadata": {
    "collapsed": true
   },
   "source": [
    "## Binary Customer Churn\n",
    "\n",
    "A marketing agency has many customers that use their service to produce ads for the client/customer websites. They've noticed that they have quite a bit of churn in clients. They basically randomly assign account managers right now, but want you to create a machine learning model that will help predict which customers will churn (stop buying their service) so that they can correctly assign the customers most at risk to churn an account manager. Luckily they have some historical data, can you help them out? Create a classification algorithm that will help classify whether or not a customer churned. Then the company can test this against incoming data for future customers to predict which customers will churn and assign them an account manager.\n",
    "\n",
    "The data is saved as customer_churn.csv. Here are the fields and their definitions:\n",
    "\n",
    "    Name : Name of the latest contact at Company\n",
    "    Age: Customer Age\n",
    "    Total_Purchase: Total Ads Purchased\n",
    "    Account_Manager: Binary 0=No manager, 1= Account manager assigned\n",
    "    Years: Totaly Years as a customer\n",
    "    Num_sites: Number of websites that use the service.\n",
    "    Onboard_date: Date that the name of the latest contact was onboarded\n",
    "    Location: Client HQ Address\n",
    "    Company: Name of Client Company\n",
    "    \n",
    "Once you've created the model and evaluated it, test out the model on some new data (you can think of this almost like a hold-out set) that your client has provided, saved under new_customers.csv. The client wants to know which customers are most likely to churn given this data (they don't have the label yet)."
   ]
  },
  {
   "cell_type": "code",
   "execution_count": 1,
   "metadata": {},
   "outputs": [
    {
     "name": "stderr",
     "output_type": "stream",
     "text": [
      "Setting default log level to \"WARN\".\n",
      "To adjust logging level use sc.setLogLevel(newLevel). For SparkR, use setLogLevel(newLevel).\n",
      "25/08/19 16:48:50 WARN NativeCodeLoader: Unable to load native-hadoop library for your platform... using builtin-java classes where applicable\n"
     ]
    }
   ],
   "source": [
    "import findspark\n",
    "findspark.init('/home/huascar/spark-3.5.6-bin-hadoop3')\n",
    "from pyspark.sql import SparkSession\n",
    "spark = SparkSession.builder.appName('lr_cons_proj').getOrCreate()"
   ]
  },
  {
   "cell_type": "code",
   "execution_count": 2,
   "metadata": {},
   "outputs": [
    {
     "name": "stderr",
     "output_type": "stream",
     "text": [
      "                                                                                \r"
     ]
    }
   ],
   "source": [
    "df = spark.read.csv('customer_churn.csv',inferSchema=True,header=True)"
   ]
  },
  {
   "cell_type": "code",
   "execution_count": 4,
   "metadata": {},
   "outputs": [
    {
     "name": "stdout",
     "output_type": "stream",
     "text": [
      "root\n",
      " |-- Names: string (nullable = true)\n",
      " |-- Age: double (nullable = true)\n",
      " |-- Total_Purchase: double (nullable = true)\n",
      " |-- Account_Manager: integer (nullable = true)\n",
      " |-- Years: double (nullable = true)\n",
      " |-- Num_Sites: double (nullable = true)\n",
      " |-- Onboard_date: timestamp (nullable = true)\n",
      " |-- Location: string (nullable = true)\n",
      " |-- Company: string (nullable = true)\n",
      " |-- Churn: integer (nullable = true)\n",
      "\n"
     ]
    }
   ],
   "source": [
    "df.printSchema()"
   ]
  },
  {
   "cell_type": "code",
   "execution_count": 13,
   "metadata": {},
   "outputs": [
    {
     "data": {
      "text/plain": [
       "['Names',\n",
       " 'Age',\n",
       " 'Total_Purchase',\n",
       " 'Account_Manager',\n",
       " 'Years',\n",
       " 'Num_Sites',\n",
       " 'Onboard_date',\n",
       " 'Location',\n",
       " 'Company',\n",
       " 'Churn']"
      ]
     },
     "execution_count": 13,
     "metadata": {},
     "output_type": "execute_result"
    }
   ],
   "source": [
    "df.columns"
   ]
  },
  {
   "cell_type": "code",
   "execution_count": 16,
   "metadata": {},
   "outputs": [
    {
     "name": "stdout",
     "output_type": "stream",
     "text": [
      "+-------------------+----+--------------+---------------+-----+---------+\n",
      "|              Names| Age|Total_Purchase|Account_Manager|Years|Num_Sites|\n",
      "+-------------------+----+--------------+---------------+-----+---------+\n",
      "|   Cameron Williams|42.0|       11066.8|              0| 7.22|      8.0|\n",
      "|      Kevin Mueller|41.0|      11916.22|              0|  6.5|     11.0|\n",
      "|        Eric Lozano|38.0|      12884.75|              0| 6.67|     12.0|\n",
      "|      Phillip White|42.0|       8010.76|              0| 6.71|     10.0|\n",
      "|     Cynthia Norton|37.0|       9191.58|              0| 5.56|      9.0|\n",
      "|   Jessica Williams|48.0|      10356.02|              0| 5.12|      8.0|\n",
      "|        Eric Butler|44.0|      11331.58|              1| 5.23|     11.0|\n",
      "|      Zachary Walsh|32.0|       9885.12|              1| 6.92|      9.0|\n",
      "|        Ashlee Carr|43.0|       14062.6|              1| 5.46|     11.0|\n",
      "|     Jennifer Lynch|40.0|       8066.94|              1| 7.11|     11.0|\n",
      "|       Paula Harris|30.0|      11575.37|              1| 5.22|      8.0|\n",
      "|     Bruce Phillips|45.0|       8771.02|              1| 6.64|     11.0|\n",
      "|       Craig Garner|45.0|       8988.67|              1| 4.84|     11.0|\n",
      "|       Nicole Olson|40.0|       8283.32|              1|  5.1|     13.0|\n",
      "|     Harold Griffin|41.0|       6569.87|              1|  4.3|     11.0|\n",
      "|       James Wright|38.0|      10494.82|              1| 6.81|     12.0|\n",
      "|      Doris Wilkins|45.0|       8213.41|              1| 7.35|     11.0|\n",
      "|Katherine Carpenter|43.0|      11226.88|              0| 8.08|     12.0|\n",
      "|     Lindsay Martin|53.0|       5515.09|              0| 6.85|      8.0|\n",
      "|        Kathy Curry|46.0|        8046.4|              1| 5.69|      8.0|\n",
      "+-------------------+----+--------------+---------------+-----+---------+\n",
      "only showing top 20 rows\n",
      "\n",
      "+-------------------+--------------------+--------------------+-----+\n",
      "|       Onboard_date|            Location|             Company|Churn|\n",
      "+-------------------+--------------------+--------------------+-----+\n",
      "|2013-08-30 07:00:40|10265 Elizabeth M...|          Harvey LLC|    1|\n",
      "|2013-08-13 00:38:46|6157 Frank Garden...|          Wilson PLC|    1|\n",
      "|2016-06-29 06:20:07|1331 Keith Court ...|Miller, Johnson a...|    1|\n",
      "|2014-04-22 12:43:12|13120 Daniel Moun...|           Smith Inc|    1|\n",
      "|2016-01-19 15:31:15|765 Tricia Row Ka...|          Love-Jones|    1|\n",
      "|2009-03-03 23:13:37|6187 Olson Mounta...|        Kelly-Warren|    1|\n",
      "|2016-12-05 03:35:43|4846 Savannah Roa...|   Reynolds-Sheppard|    1|\n",
      "|2006-03-09 14:50:20|25271 Roy Express...|          Singh-Cole|    1|\n",
      "|2011-09-29 05:47:23|3725 Caroline Str...|           Lopez PLC|    1|\n",
      "|2006-03-28 15:42:45|363 Sandra Lodge ...|       Reed-Martinez|    1|\n",
      "|2016-11-13 13:13:01|Unit 8120 Box 916...|Briggs, Lamb and ...|    1|\n",
      "|2015-05-28 12:14:03|Unit 1895 Box 094...|    Figueroa-Maynard|    1|\n",
      "|2011-02-16 08:10:47|897 Kelley Overpa...|     Abbott-Thompson|    1|\n",
      "|2012-11-22 05:35:03|11488 Weaver Cape...|Smith, Kim and Ma...|    1|\n",
      "|2015-03-28 02:13:44|1774 Peter Row Ap...|Snyder, Lee and M...|    1|\n",
      "|2015-07-22 08:38:40|45408 David Path ...|      Sanders-Pierce|    1|\n",
      "|2006-09-03 06:13:55|28216 Wright Moun...|Andrews, Adams an...|    1|\n",
      "|2006-10-22 04:42:38|Unit 4948 Box 481...|Morgan, Phillips ...|    1|\n",
      "|2015-10-07 00:27:10|69203 Crosby Divi...|      Villanueva LLC|    1|\n",
      "|2014-11-06 23:47:14|9569 Caldwell Cre...|Berry, Orr and Ca...|    1|\n",
      "+-------------------+--------------------+--------------------+-----+\n",
      "only showing top 20 rows\n",
      "\n"
     ]
    }
   ],
   "source": [
    "df['Names','Age', 'Total_Purchase', 'Account_Manager', 'Years', 'Num_Sites'].show()\n",
    "df[ 'Onboard_date', 'Location', 'Company', 'Churn'].show()"
   ]
  },
  {
   "cell_type": "code",
   "execution_count": 18,
   "metadata": {},
   "outputs": [
    {
     "name": "stdout",
     "output_type": "stream",
     "text": [
      "+-----+---+--------------+---------------+-----+---------+------------+--------+-------+-----+\n",
      "|Names|Age|Total_Purchase|Account_Manager|Years|Num_Sites|Onboard_date|Location|Company|Churn|\n",
      "+-----+---+--------------+---------------+-----+---------+------------+--------+-------+-----+\n",
      "|    0|  0|             0|              0|    0|        0|           0|       0|      0|    0|\n",
      "+-----+---+--------------+---------------+-----+---------+------------+--------+-------+-----+\n",
      "\n"
     ]
    }
   ],
   "source": [
    "#Verify if nulls exist\n",
    "from pyspark.sql import functions as F\n",
    "df.select([F.count(F.when(F.col(c).isNull(), c)).alias(c) for c in df.columns]).show()"
   ]
  },
  {
   "cell_type": "code",
   "execution_count": 19,
   "metadata": {},
   "outputs": [
    {
     "name": "stdout",
     "output_type": "stream",
     "text": [
      "+---------------+-----+-----+\n",
      "|Account_Manager|Churn|count|\n",
      "+---------------+-----+-----+\n",
      "|              1|    0|  349|\n",
      "|              1|    1|   84|\n",
      "|              0|    0|  401|\n",
      "|              0|    1|   66|\n",
      "+---------------+-----+-----+\n",
      "\n"
     ]
    }
   ],
   "source": [
    "#Verify categoric Account Manager x Churn\n",
    "df.groupBy(\"Account_Manager\", \"Churn\").count().show()"
   ]
  },
  {
   "cell_type": "code",
   "execution_count": 24,
   "metadata": {},
   "outputs": [
    {
     "name": "stdout",
     "output_type": "stream",
     "text": [
      "+-------------------+----+--------------+---------------+-----+---------+\n",
      "|              Names| Age|Total_Purchase|Account_Manager|Years|Num_Sites|\n",
      "+-------------------+----+--------------+---------------+-----+---------+\n",
      "|   Cameron Williams|42.0|       11066.8|              0| 7.22|      8.0|\n",
      "|      Kevin Mueller|41.0|      11916.22|              0|  6.5|     11.0|\n",
      "|        Eric Lozano|38.0|      12884.75|              0| 6.67|     12.0|\n",
      "|      Phillip White|42.0|       8010.76|              0| 6.71|     10.0|\n",
      "|     Cynthia Norton|37.0|       9191.58|              0| 5.56|      9.0|\n",
      "|   Jessica Williams|48.0|      10356.02|              0| 5.12|      8.0|\n",
      "|        Eric Butler|44.0|      11331.58|              1| 5.23|     11.0|\n",
      "|      Zachary Walsh|32.0|       9885.12|              1| 6.92|      9.0|\n",
      "|        Ashlee Carr|43.0|       14062.6|              1| 5.46|     11.0|\n",
      "|     Jennifer Lynch|40.0|       8066.94|              1| 7.11|     11.0|\n",
      "|       Paula Harris|30.0|      11575.37|              1| 5.22|      8.0|\n",
      "|     Bruce Phillips|45.0|       8771.02|              1| 6.64|     11.0|\n",
      "|       Craig Garner|45.0|       8988.67|              1| 4.84|     11.0|\n",
      "|       Nicole Olson|40.0|       8283.32|              1|  5.1|     13.0|\n",
      "|     Harold Griffin|41.0|       6569.87|              1|  4.3|     11.0|\n",
      "|       James Wright|38.0|      10494.82|              1| 6.81|     12.0|\n",
      "|      Doris Wilkins|45.0|       8213.41|              1| 7.35|     11.0|\n",
      "|Katherine Carpenter|43.0|      11226.88|              0| 8.08|     12.0|\n",
      "|     Lindsay Martin|53.0|       5515.09|              0| 6.85|      8.0|\n",
      "|        Kathy Curry|46.0|        8046.4|              1| 5.69|      8.0|\n",
      "+-------------------+----+--------------+---------------+-----+---------+\n",
      "only showing top 20 rows\n",
      "\n",
      "+-------------------+--------------------+--------------------+-----+------------------+\n",
      "|       Onboard_date|            Location|             Company|Churn|years_from_onboard|\n",
      "+-------------------+--------------------+--------------------+-----+------------------+\n",
      "|2013-08-30 07:00:40|10265 Elizabeth M...|          Harvey LLC|    1|              12.0|\n",
      "|2013-08-13 00:38:46|6157 Frank Garden...|          Wilson PLC|    1|              12.0|\n",
      "|2016-06-29 06:20:07|1331 Keith Court ...|Miller, Johnson a...|    1|               9.1|\n",
      "|2014-04-22 12:43:12|13120 Daniel Moun...|           Smith Inc|    1|              11.3|\n",
      "|2016-01-19 15:31:15|765 Tricia Row Ka...|          Love-Jones|    1|               9.6|\n",
      "|2009-03-03 23:13:37|6187 Olson Mounta...|        Kelly-Warren|    1|              16.5|\n",
      "|2016-12-05 03:35:43|4846 Savannah Roa...|   Reynolds-Sheppard|    1|               8.7|\n",
      "|2006-03-09 14:50:20|25271 Roy Express...|          Singh-Cole|    1|              19.4|\n",
      "|2011-09-29 05:47:23|3725 Caroline Str...|           Lopez PLC|    1|              13.9|\n",
      "|2006-03-28 15:42:45|363 Sandra Lodge ...|       Reed-Martinez|    1|              19.4|\n",
      "|2016-11-13 13:13:01|Unit 8120 Box 916...|Briggs, Lamb and ...|    1|               8.8|\n",
      "|2015-05-28 12:14:03|Unit 1895 Box 094...|    Figueroa-Maynard|    1|              10.2|\n",
      "|2011-02-16 08:10:47|897 Kelley Overpa...|     Abbott-Thompson|    1|              14.5|\n",
      "|2012-11-22 05:35:03|11488 Weaver Cape...|Smith, Kim and Ma...|    1|              12.7|\n",
      "|2015-03-28 02:13:44|1774 Peter Row Ap...|Snyder, Lee and M...|    1|              10.4|\n",
      "|2015-07-22 08:38:40|45408 David Path ...|      Sanders-Pierce|    1|              10.1|\n",
      "|2006-09-03 06:13:55|28216 Wright Moun...|Andrews, Adams an...|    1|              19.0|\n",
      "|2006-10-22 04:42:38|Unit 4948 Box 481...|Morgan, Phillips ...|    1|              18.8|\n",
      "|2015-10-07 00:27:10|69203 Crosby Divi...|      Villanueva LLC|    1|               9.9|\n",
      "|2014-11-06 23:47:14|9569 Caldwell Cre...|Berry, Orr and Ca...|    1|              10.8|\n",
      "+-------------------+--------------------+--------------------+-----+------------------+\n",
      "only showing top 20 rows\n",
      "\n"
     ]
    }
   ],
   "source": [
    "#COnvert on-board date to years from that date\n",
    "from pyspark.sql import functions as F\n",
    "df = df.withColumn(\"years_from_onboard\", F.round(F.months_between(F.current_date(), F.col(\"Onboard_date\")) / 12, 1))\n",
    "df['Names','Age', 'Total_Purchase', 'Account_Manager', 'Years', 'Num_Sites'].show()\n",
    "df[ 'Onboard_date', 'Location', 'Company', 'Churn', 'years_from_onboard'].show()"
   ]
  },
  {
   "cell_type": "code",
   "execution_count": 25,
   "metadata": {},
   "outputs": [
    {
     "name": "stdout",
     "output_type": "stream",
     "text": [
      "+-------------------+----+--------------+---------------+-----+---------+\n",
      "|              Names| Age|Total_Purchase|Account_Manager|Years|Num_Sites|\n",
      "+-------------------+----+--------------+---------------+-----+---------+\n",
      "|   Cameron Williams|42.0|       11066.8|              0| 7.22|      8.0|\n",
      "|      Kevin Mueller|41.0|      11916.22|              0|  6.5|     11.0|\n",
      "|        Eric Lozano|38.0|      12884.75|              0| 6.67|     12.0|\n",
      "|      Phillip White|42.0|       8010.76|              0| 6.71|     10.0|\n",
      "|     Cynthia Norton|37.0|       9191.58|              0| 5.56|      9.0|\n",
      "|   Jessica Williams|48.0|      10356.02|              0| 5.12|      8.0|\n",
      "|        Eric Butler|44.0|      11331.58|              1| 5.23|     11.0|\n",
      "|      Zachary Walsh|32.0|       9885.12|              1| 6.92|      9.0|\n",
      "|        Ashlee Carr|43.0|       14062.6|              1| 5.46|     11.0|\n",
      "|     Jennifer Lynch|40.0|       8066.94|              1| 7.11|     11.0|\n",
      "|       Paula Harris|30.0|      11575.37|              1| 5.22|      8.0|\n",
      "|     Bruce Phillips|45.0|       8771.02|              1| 6.64|     11.0|\n",
      "|       Craig Garner|45.0|       8988.67|              1| 4.84|     11.0|\n",
      "|       Nicole Olson|40.0|       8283.32|              1|  5.1|     13.0|\n",
      "|     Harold Griffin|41.0|       6569.87|              1|  4.3|     11.0|\n",
      "|       James Wright|38.0|      10494.82|              1| 6.81|     12.0|\n",
      "|      Doris Wilkins|45.0|       8213.41|              1| 7.35|     11.0|\n",
      "|Katherine Carpenter|43.0|      11226.88|              0| 8.08|     12.0|\n",
      "|     Lindsay Martin|53.0|       5515.09|              0| 6.85|      8.0|\n",
      "|        Kathy Curry|46.0|        8046.4|              1| 5.69|      8.0|\n",
      "+-------------------+----+--------------+---------------+-----+---------+\n",
      "only showing top 20 rows\n",
      "\n",
      "+-------------------+--------------------+--------------------+-----+------------------+------------+\n",
      "|       Onboard_date|            Location|             Company|Churn|years_from_onboard|current_date|\n",
      "+-------------------+--------------------+--------------------+-----+------------------+------------+\n",
      "|2013-08-30 07:00:40|10265 Elizabeth M...|          Harvey LLC|    1|              12.0|  2020-10-30|\n",
      "|2013-08-13 00:38:46|6157 Frank Garden...|          Wilson PLC|    1|              12.0|  2020-02-13|\n",
      "|2016-06-29 06:20:07|1331 Keith Court ...|Miller, Johnson a...|    1|               9.1|  2023-02-28|\n",
      "|2014-04-22 12:43:12|13120 Daniel Moun...|           Smith Inc|    1|              11.3|  2020-12-22|\n",
      "|2016-01-19 15:31:15|765 Tricia Row Ka...|          Love-Jones|    1|               9.6|  2021-07-19|\n",
      "|2009-03-03 23:13:37|6187 Olson Mounta...|        Kelly-Warren|    1|              16.5|  2014-04-03|\n",
      "|2016-12-05 03:35:43|4846 Savannah Roa...|   Reynolds-Sheppard|    1|               8.7|  2022-02-05|\n",
      "|2006-03-09 14:50:20|25271 Roy Express...|          Singh-Cole|    1|              19.4|  2013-02-09|\n",
      "|2011-09-29 05:47:23|3725 Caroline Str...|           Lopez PLC|    1|              13.9|  2017-02-28|\n",
      "|2006-03-28 15:42:45|363 Sandra Lodge ...|       Reed-Martinez|    1|              19.4|  2013-04-28|\n",
      "|2016-11-13 13:13:01|Unit 8120 Box 916...|Briggs, Lamb and ...|    1|               8.8|  2022-01-13|\n",
      "|2015-05-28 12:14:03|Unit 1895 Box 094...|    Figueroa-Maynard|    1|              10.2|  2021-12-28|\n",
      "|2011-02-16 08:10:47|897 Kelley Overpa...|     Abbott-Thompson|    1|              14.5|  2015-12-16|\n",
      "|2012-11-22 05:35:03|11488 Weaver Cape...|Smith, Kim and Ma...|    1|              12.7|  2017-12-22|\n",
      "|2015-03-28 02:13:44|1774 Peter Row Ap...|Snyder, Lee and M...|    1|              10.4|  2019-06-28|\n",
      "|2015-07-22 08:38:40|45408 David Path ...|      Sanders-Pierce|    1|              10.1|  2022-04-22|\n",
      "|2006-09-03 06:13:55|28216 Wright Moun...|Andrews, Adams an...|    1|              19.0|  2014-01-03|\n",
      "|2006-10-22 04:42:38|Unit 4948 Box 481...|Morgan, Phillips ...|    1|              18.8|  2014-10-22|\n",
      "|2015-10-07 00:27:10|69203 Crosby Divi...|      Villanueva LLC|    1|               9.9|  2022-08-07|\n",
      "|2014-11-06 23:47:14|9569 Caldwell Cre...|Berry, Orr and Ca...|    1|              10.8|  2020-07-06|\n",
      "+-------------------+--------------------+--------------------+-----+------------------+------------+\n",
      "only showing top 20 rows\n",
      "\n"
     ]
    }
   ],
   "source": [
    "#Find current date adding the number of years to the on-board date\n",
    "df = df.withColumn(\"current_date\", F.add_months(F.col(\"Onboard_date\"), F.col(\"Years\") * 12))\n",
    "df['Names','Age', 'Total_Purchase', 'Account_Manager', 'Years', 'Num_Sites'].show()\n",
    "df[ 'Onboard_date', 'Location', 'Company', 'Churn', 'years_from_onboard', 'current_date'].show()\n",
    "                   "
   ]
  },
  {
   "cell_type": "code",
   "execution_count": 26,
   "metadata": {},
   "outputs": [
    {
     "data": {
      "text/plain": [
       "['Names',\n",
       " 'Age',\n",
       " 'Total_Purchase',\n",
       " 'Account_Manager',\n",
       " 'Years',\n",
       " 'Num_Sites',\n",
       " 'Onboard_date',\n",
       " 'Location',\n",
       " 'Company',\n",
       " 'Churn',\n",
       " 'years_from_onboard',\n",
       " 'current_date']"
      ]
     },
     "execution_count": 26,
     "metadata": {},
     "output_type": "execute_result"
    }
   ],
   "source": [
    "#Get the columns to use in regression\n",
    "df.columns"
   ]
  },
  {
   "cell_type": "code",
   "execution_count": 30,
   "metadata": {},
   "outputs": [
    {
     "name": "stdout",
     "output_type": "stream",
     "text": [
      "+----+--------------+---------------+-----+---------+-----+\n",
      "| Age|Total_Purchase|Account_Manager|Years|Num_Sites|Churn|\n",
      "+----+--------------+---------------+-----+---------+-----+\n",
      "|42.0|       11066.8|              0| 7.22|      8.0|    1|\n",
      "|41.0|      11916.22|              0|  6.5|     11.0|    1|\n",
      "|38.0|      12884.75|              0| 6.67|     12.0|    1|\n",
      "|42.0|       8010.76|              0| 6.71|     10.0|    1|\n",
      "|37.0|       9191.58|              0| 5.56|      9.0|    1|\n",
      "|48.0|      10356.02|              0| 5.12|      8.0|    1|\n",
      "|44.0|      11331.58|              1| 5.23|     11.0|    1|\n",
      "|32.0|       9885.12|              1| 6.92|      9.0|    1|\n",
      "|43.0|       14062.6|              1| 5.46|     11.0|    1|\n",
      "|40.0|       8066.94|              1| 7.11|     11.0|    1|\n",
      "|30.0|      11575.37|              1| 5.22|      8.0|    1|\n",
      "|45.0|       8771.02|              1| 6.64|     11.0|    1|\n",
      "|45.0|       8988.67|              1| 4.84|     11.0|    1|\n",
      "|40.0|       8283.32|              1|  5.1|     13.0|    1|\n",
      "|41.0|       6569.87|              1|  4.3|     11.0|    1|\n",
      "|38.0|      10494.82|              1| 6.81|     12.0|    1|\n",
      "|45.0|       8213.41|              1| 7.35|     11.0|    1|\n",
      "|43.0|      11226.88|              0| 8.08|     12.0|    1|\n",
      "|53.0|       5515.09|              0| 6.85|      8.0|    1|\n",
      "|46.0|        8046.4|              1| 5.69|      8.0|    1|\n",
      "+----+--------------+---------------+-----+---------+-----+\n",
      "only showing top 20 rows\n",
      "\n"
     ]
    }
   ],
   "source": [
    "model_columns = ['Age', 'Total_Purchase', 'Account_Manager', 'Years', 'Num_Sites', 'Churn']\n",
    "df_model[model_columns].show()\n",
    "features_columns = ['Age', 'Total_Purchase', 'Account_Manager', 'Years', 'Num_Sites']"
   ]
  },
  {
   "cell_type": "code",
   "execution_count": 31,
   "metadata": {},
   "outputs": [
    {
     "name": "stdout",
     "output_type": "stream",
     "text": [
      "+-------------------+----+--------------+---------------+-----+---------+-------------------+--------------------+--------------------+-----+------------------+------------+--------------------+\n",
      "|              Names| Age|Total_Purchase|Account_Manager|Years|Num_Sites|       Onboard_date|            Location|             Company|Churn|years_from_onboard|current_date|            features|\n",
      "+-------------------+----+--------------+---------------+-----+---------+-------------------+--------------------+--------------------+-----+------------------+------------+--------------------+\n",
      "|   Cameron Williams|42.0|       11066.8|              0| 7.22|      8.0|2013-08-30 07:00:40|10265 Elizabeth M...|          Harvey LLC|    1|              12.0|  2020-10-30|[42.0,11066.8,0.0...|\n",
      "|      Kevin Mueller|41.0|      11916.22|              0|  6.5|     11.0|2013-08-13 00:38:46|6157 Frank Garden...|          Wilson PLC|    1|              12.0|  2020-02-13|[41.0,11916.22,0....|\n",
      "|        Eric Lozano|38.0|      12884.75|              0| 6.67|     12.0|2016-06-29 06:20:07|1331 Keith Court ...|Miller, Johnson a...|    1|               9.1|  2023-02-28|[38.0,12884.75,0....|\n",
      "|      Phillip White|42.0|       8010.76|              0| 6.71|     10.0|2014-04-22 12:43:12|13120 Daniel Moun...|           Smith Inc|    1|              11.3|  2020-12-22|[42.0,8010.76,0.0...|\n",
      "|     Cynthia Norton|37.0|       9191.58|              0| 5.56|      9.0|2016-01-19 15:31:15|765 Tricia Row Ka...|          Love-Jones|    1|               9.6|  2021-07-19|[37.0,9191.58,0.0...|\n",
      "|   Jessica Williams|48.0|      10356.02|              0| 5.12|      8.0|2009-03-03 23:13:37|6187 Olson Mounta...|        Kelly-Warren|    1|              16.5|  2014-04-03|[48.0,10356.02,0....|\n",
      "|        Eric Butler|44.0|      11331.58|              1| 5.23|     11.0|2016-12-05 03:35:43|4846 Savannah Roa...|   Reynolds-Sheppard|    1|               8.7|  2022-02-05|[44.0,11331.58,1....|\n",
      "|      Zachary Walsh|32.0|       9885.12|              1| 6.92|      9.0|2006-03-09 14:50:20|25271 Roy Express...|          Singh-Cole|    1|              19.4|  2013-02-09|[32.0,9885.12,1.0...|\n",
      "|        Ashlee Carr|43.0|       14062.6|              1| 5.46|     11.0|2011-09-29 05:47:23|3725 Caroline Str...|           Lopez PLC|    1|              13.9|  2017-02-28|[43.0,14062.6,1.0...|\n",
      "|     Jennifer Lynch|40.0|       8066.94|              1| 7.11|     11.0|2006-03-28 15:42:45|363 Sandra Lodge ...|       Reed-Martinez|    1|              19.4|  2013-04-28|[40.0,8066.94,1.0...|\n",
      "|       Paula Harris|30.0|      11575.37|              1| 5.22|      8.0|2016-11-13 13:13:01|Unit 8120 Box 916...|Briggs, Lamb and ...|    1|               8.8|  2022-01-13|[30.0,11575.37,1....|\n",
      "|     Bruce Phillips|45.0|       8771.02|              1| 6.64|     11.0|2015-05-28 12:14:03|Unit 1895 Box 094...|    Figueroa-Maynard|    1|              10.2|  2021-12-28|[45.0,8771.02,1.0...|\n",
      "|       Craig Garner|45.0|       8988.67|              1| 4.84|     11.0|2011-02-16 08:10:47|897 Kelley Overpa...|     Abbott-Thompson|    1|              14.5|  2015-12-16|[45.0,8988.67,1.0...|\n",
      "|       Nicole Olson|40.0|       8283.32|              1|  5.1|     13.0|2012-11-22 05:35:03|11488 Weaver Cape...|Smith, Kim and Ma...|    1|              12.7|  2017-12-22|[40.0,8283.32,1.0...|\n",
      "|     Harold Griffin|41.0|       6569.87|              1|  4.3|     11.0|2015-03-28 02:13:44|1774 Peter Row Ap...|Snyder, Lee and M...|    1|              10.4|  2019-06-28|[41.0,6569.87,1.0...|\n",
      "|       James Wright|38.0|      10494.82|              1| 6.81|     12.0|2015-07-22 08:38:40|45408 David Path ...|      Sanders-Pierce|    1|              10.1|  2022-04-22|[38.0,10494.82,1....|\n",
      "|      Doris Wilkins|45.0|       8213.41|              1| 7.35|     11.0|2006-09-03 06:13:55|28216 Wright Moun...|Andrews, Adams an...|    1|              19.0|  2014-01-03|[45.0,8213.41,1.0...|\n",
      "|Katherine Carpenter|43.0|      11226.88|              0| 8.08|     12.0|2006-10-22 04:42:38|Unit 4948 Box 481...|Morgan, Phillips ...|    1|              18.8|  2014-10-22|[43.0,11226.88,0....|\n",
      "|     Lindsay Martin|53.0|       5515.09|              0| 6.85|      8.0|2015-10-07 00:27:10|69203 Crosby Divi...|      Villanueva LLC|    1|               9.9|  2022-08-07|[53.0,5515.09,0.0...|\n",
      "|        Kathy Curry|46.0|        8046.4|              1| 5.69|      8.0|2014-11-06 23:47:14|9569 Caldwell Cre...|Berry, Orr and Ca...|    1|              10.8|  2020-07-06|[46.0,8046.4,1.0,...|\n",
      "+-------------------+----+--------------+---------------+-----+---------+-------------------+--------------------+--------------------+-----+------------------+------------+--------------------+\n",
      "only showing top 20 rows\n",
      "\n"
     ]
    },
    {
     "name": "stderr",
     "output_type": "stream",
     "text": [
      "\r",
      "[Stage 31:>                                                         (0 + 1) / 1]\r",
      "\r",
      "                                                                                \r"
     ]
    }
   ],
   "source": [
    "# Create features column\n",
    "from pyspark.ml.feature import VectorAssembler\n",
    "assembler = VectorAssembler(inputCols=features_columns,outputCol='features')\n",
    "df = assembler.transform(df)\n",
    "df.show()"
   ]
  },
  {
   "cell_type": "code",
   "execution_count": 32,
   "metadata": {},
   "outputs": [
    {
     "name": "stdout",
     "output_type": "stream",
     "text": [
      "+--------------------+-----+\n",
      "|            features|Churn|\n",
      "+--------------------+-----+\n",
      "|[22.0,11254.38,1....|    0|\n",
      "|[26.0,8787.39,1.0...|    1|\n",
      "|[26.0,8939.61,0.0...|    0|\n",
      "|[28.0,9090.43,1.0...|    0|\n",
      "|[28.0,11128.95,1....|    0|\n",
      "|[28.0,11204.23,0....|    0|\n",
      "|[28.0,11245.38,0....|    0|\n",
      "|[29.0,8688.17,1.0...|    1|\n",
      "|[29.0,9378.24,0.0...|    0|\n",
      "|[29.0,12711.15,0....|    0|\n",
      "|[29.0,13255.05,1....|    0|\n",
      "|[30.0,8403.78,1.0...|    0|\n",
      "|[30.0,8874.83,0.0...|    0|\n",
      "|[30.0,10744.14,1....|    1|\n",
      "|[30.0,10960.52,1....|    0|\n",
      "|[30.0,11575.37,1....|    1|\n",
      "|[30.0,12788.37,0....|    0|\n",
      "|[31.0,5304.6,0.0,...|    0|\n",
      "|[31.0,5387.75,0.0...|    0|\n",
      "|[31.0,7073.61,0.0...|    0|\n",
      "+--------------------+-----+\n",
      "only showing top 20 rows\n",
      "\n"
     ]
    }
   ],
   "source": [
    "#Separate train and test data\n",
    "train, test = df.select(\"features\",\"Churn\").randomSplit([0.7,.3])\n",
    "train.show()"
   ]
  },
  {
   "cell_type": "code",
   "execution_count": 33,
   "metadata": {},
   "outputs": [
    {
     "name": "stderr",
     "output_type": "stream",
     "text": [
      "25/08/19 18:03:59 WARN InstanceBuilder: Failed to load implementation from:dev.ludovic.netlib.blas.VectorBLAS\n"
     ]
    },
    {
     "name": "stdout",
     "output_type": "stream",
     "text": [
      "+-----+----------+\n",
      "|Churn|prediction|\n",
      "+-----+----------+\n",
      "|    0|       0.0|\n",
      "|    0|       0.0|\n",
      "|    0|       0.0|\n",
      "|    0|       0.0|\n",
      "|    0|       0.0|\n",
      "|    0|       0.0|\n",
      "|    0|       0.0|\n",
      "|    0|       0.0|\n",
      "|    0|       0.0|\n",
      "|    1|       0.0|\n",
      "|    0|       0.0|\n",
      "|    0|       0.0|\n",
      "|    0|       0.0|\n",
      "|    0|       0.0|\n",
      "|    0|       0.0|\n",
      "|    0|       0.0|\n",
      "|    0|       0.0|\n",
      "|    0|       0.0|\n",
      "|    1|       0.0|\n",
      "|    0|       0.0|\n",
      "+-----+----------+\n",
      "only showing top 20 rows\n",
      "\n"
     ]
    }
   ],
   "source": [
    "#Create logistic regression model\n",
    "from pyspark.ml.classification import LogisticRegression\n",
    "lr = LogisticRegression(featuresCol='features',labelCol='Churn')\n",
    "lr_model = lr.fit(train)\n",
    "results = lr_model.transform(test)\n",
    "results['Churn','prediction'].show()"
   ]
  },
  {
   "cell_type": "code",
   "execution_count": 34,
   "metadata": {},
   "outputs": [
    {
     "data": {
      "text/plain": [
       "0.7498249299719887"
      ]
     },
     "execution_count": 34,
     "metadata": {},
     "output_type": "execute_result"
    }
   ],
   "source": [
    "from pyspark.ml.evaluation import BinaryClassificationEvaluator\n",
    "evaluation = BinaryClassificationEvaluator(rawPredictionCol='prediction', labelCol='Churn')\n",
    "AUC = evaluation.evaluate(results)\n",
    "AUC"
   ]
  },
  {
   "cell_type": "code",
   "execution_count": 36,
   "metadata": {},
   "outputs": [
    {
     "data": {
      "text/plain": [
       "0.8881118881118881"
      ]
     },
     "execution_count": 36,
     "metadata": {},
     "output_type": "execute_result"
    }
   ],
   "source": [
    "from pyspark.ml.evaluation import MulticlassClassificationEvaluator\n",
    "evaluation2 = MulticlassClassificationEvaluator(predictionCol='prediction', labelCol='Churn', metricName='accuracy')\n",
    "ACC = evaluation2.evaluate(results)\n",
    "ACC"
   ]
  },
  {
   "cell_type": "code",
   "execution_count": 37,
   "metadata": {},
   "outputs": [],
   "source": [
    "#Apply model to new unlabeled data\n",
    "new_df = spark.read.csv('new_customers.csv',inferSchema=True,header=True)"
   ]
  },
  {
   "cell_type": "code",
   "execution_count": 38,
   "metadata": {},
   "outputs": [
    {
     "name": "stdout",
     "output_type": "stream",
     "text": [
      "root\n",
      " |-- Names: string (nullable = true)\n",
      " |-- Age: double (nullable = true)\n",
      " |-- Total_Purchase: double (nullable = true)\n",
      " |-- Account_Manager: integer (nullable = true)\n",
      " |-- Years: double (nullable = true)\n",
      " |-- Num_Sites: double (nullable = true)\n",
      " |-- Onboard_date: timestamp (nullable = true)\n",
      " |-- Location: string (nullable = true)\n",
      " |-- Company: string (nullable = true)\n",
      "\n"
     ]
    }
   ],
   "source": [
    "new_df.printSchema()"
   ]
  },
  {
   "cell_type": "code",
   "execution_count": 41,
   "metadata": {},
   "outputs": [
    {
     "name": "stdout",
     "output_type": "stream",
     "text": [
      "+--------------+----+--------------+---------------+-----+---------+\n",
      "|         Names| Age|Total_Purchase|Account_Manager|Years|Num_Sites|\n",
      "+--------------+----+--------------+---------------+-----+---------+\n",
      "| Andrew Mccall|37.0|       9935.53|              1| 7.71|      8.0|\n",
      "|Michele Wright|23.0|       7526.94|              1| 9.28|     15.0|\n",
      "|  Jeremy Chang|65.0|         100.0|              1|  1.0|     15.0|\n",
      "|Megan Ferguson|32.0|        6487.5|              0|  9.4|     14.0|\n",
      "|  Taylor Young|32.0|      13147.71|              1| 10.0|      8.0|\n",
      "| Jessica Drake|22.0|       8445.26|              1| 3.46|     14.0|\n",
      "+--------------+----+--------------+---------------+-----+---------+\n",
      "\n",
      "+-------------------+--------------------+----------------+\n",
      "|       Onboard_date|            Location|         Company|\n",
      "+-------------------+--------------------+----------------+\n",
      "|2011-08-29 18:37:54|38612 Johnny Stra...|        King Ltd|\n",
      "|2013-07-22 18:19:54|21083 Nicole Junc...|   Cannon-Benson|\n",
      "|2006-12-11 07:48:13|085 Austin Views ...|Barron-Robertson|\n",
      "|2016-10-28 05:32:13|922 Wright Branch...|   Sexton-Golden|\n",
      "|2012-03-20 00:36:46|Unit 0789 Box 073...|        Wood LLC|\n",
      "|2011-02-04 19:29:27|1148 Tina Straven...|   Parks-Robbins|\n",
      "+-------------------+--------------------+----------------+\n",
      "\n"
     ]
    }
   ],
   "source": [
    "new_df['Names','Age', 'Total_Purchase', 'Account_Manager', 'Years', 'Num_Sites'].show()\n",
    "new_df[ 'Onboard_date', 'Location', 'Company'].show()"
   ]
  },
  {
   "cell_type": "code",
   "execution_count": 42,
   "metadata": {},
   "outputs": [
    {
     "name": "stderr",
     "output_type": "stream",
     "text": [
      "25/08/19 18:17:42 WARN SparkStringUtils: Truncated the string representation of a plan since it was too large. This behavior can be adjusted by setting 'spark.sql.debug.maxToStringFields'.\n"
     ]
    },
    {
     "name": "stdout",
     "output_type": "stream",
     "text": [
      "+-------+-------------+------------------+-----------------+------------------+-----------------+------------------+--------------------+----------------+\n",
      "|summary|        Names|               Age|   Total_Purchase|   Account_Manager|            Years|         Num_Sites|            Location|         Company|\n",
      "+-------+-------------+------------------+-----------------+------------------+-----------------+------------------+--------------------+----------------+\n",
      "|  count|            6|                 6|                6|                 6|                6|                 6|                   6|               6|\n",
      "|   mean|         NULL|35.166666666666664|7607.156666666667|0.8333333333333334|6.808333333333334|12.333333333333334|                NULL|            NULL|\n",
      "| stddev|         NULL| 15.71517313511584|4346.008232825459| 0.408248290463863|3.708737880555414|3.3862466931200785|                NULL|            NULL|\n",
      "|    min|Andrew Mccall|              22.0|            100.0|                 0|              1.0|               8.0|085 Austin Views ...|Barron-Robertson|\n",
      "|    max| Taylor Young|              65.0|         13147.71|                 1|             10.0|              15.0|Unit 0789 Box 073...|        Wood LLC|\n",
      "+-------+-------------+------------------+-----------------+------------------+-----------------+------------------+--------------------+----------------+\n",
      "\n"
     ]
    }
   ],
   "source": [
    "new_df.describe().show()"
   ]
  },
  {
   "cell_type": "code",
   "execution_count": 43,
   "metadata": {},
   "outputs": [
    {
     "name": "stdout",
     "output_type": "stream",
     "text": [
      "root\n",
      " |-- Names: string (nullable = true)\n",
      " |-- Age: double (nullable = true)\n",
      " |-- Total_Purchase: double (nullable = true)\n",
      " |-- Account_Manager: integer (nullable = true)\n",
      " |-- Years: double (nullable = true)\n",
      " |-- Num_Sites: double (nullable = true)\n",
      " |-- Onboard_date: timestamp (nullable = true)\n",
      " |-- Location: string (nullable = true)\n",
      " |-- Company: string (nullable = true)\n",
      " |-- features: vector (nullable = true)\n",
      "\n"
     ]
    }
   ],
   "source": [
    "test_new = assembler.transform(new_df)\n",
    "test_new.printSchema()"
   ]
  },
  {
   "cell_type": "code",
   "execution_count": 44,
   "metadata": {},
   "outputs": [
    {
     "name": "stdout",
     "output_type": "stream",
     "text": [
      "+--------------+----+--------------+---------------+-----+---------+-------------------+--------------------+----------------+--------------------+\n",
      "|         Names| Age|Total_Purchase|Account_Manager|Years|Num_Sites|       Onboard_date|            Location|         Company|            features|\n",
      "+--------------+----+--------------+---------------+-----+---------+-------------------+--------------------+----------------+--------------------+\n",
      "| Andrew Mccall|37.0|       9935.53|              1| 7.71|      8.0|2011-08-29 18:37:54|38612 Johnny Stra...|        King Ltd|[37.0,9935.53,1.0...|\n",
      "|Michele Wright|23.0|       7526.94|              1| 9.28|     15.0|2013-07-22 18:19:54|21083 Nicole Junc...|   Cannon-Benson|[23.0,7526.94,1.0...|\n",
      "|  Jeremy Chang|65.0|         100.0|              1|  1.0|     15.0|2006-12-11 07:48:13|085 Austin Views ...|Barron-Robertson|[65.0,100.0,1.0,1...|\n",
      "|Megan Ferguson|32.0|        6487.5|              0|  9.4|     14.0|2016-10-28 05:32:13|922 Wright Branch...|   Sexton-Golden|[32.0,6487.5,0.0,...|\n",
      "|  Taylor Young|32.0|      13147.71|              1| 10.0|      8.0|2012-03-20 00:36:46|Unit 0789 Box 073...|        Wood LLC|[32.0,13147.71,1....|\n",
      "| Jessica Drake|22.0|       8445.26|              1| 3.46|     14.0|2011-02-04 19:29:27|1148 Tina Straven...|   Parks-Robbins|[22.0,8445.26,1.0...|\n",
      "+--------------+----+--------------+---------------+-----+---------+-------------------+--------------------+----------------+--------------------+\n",
      "\n"
     ]
    }
   ],
   "source": [
    "test_new.show()"
   ]
  },
  {
   "cell_type": "code",
   "execution_count": 46,
   "metadata": {},
   "outputs": [
    {
     "name": "stdout",
     "output_type": "stream",
     "text": [
      "root\n",
      " |-- Names: string (nullable = true)\n",
      " |-- Age: double (nullable = true)\n",
      " |-- Total_Purchase: double (nullable = true)\n",
      " |-- Account_Manager: integer (nullable = true)\n",
      " |-- Years: double (nullable = true)\n",
      " |-- Num_Sites: double (nullable = true)\n",
      " |-- Onboard_date: timestamp (nullable = true)\n",
      " |-- Location: string (nullable = true)\n",
      " |-- Company: string (nullable = true)\n",
      " |-- features: vector (nullable = true)\n",
      " |-- rawPrediction: vector (nullable = true)\n",
      " |-- probability: vector (nullable = true)\n",
      " |-- prediction: double (nullable = false)\n",
      "\n"
     ]
    }
   ],
   "source": [
    "results2 = lr_model.transform(test_new)\n",
    "results2.printSchema()"
   ]
  },
  {
   "cell_type": "code",
   "execution_count": 49,
   "metadata": {},
   "outputs": [
    {
     "name": "stdout",
     "output_type": "stream",
     "text": [
      "+----------------+---------------+----------+\n",
      "|         Company|Account_Manager|prediction|\n",
      "+----------------+---------------+----------+\n",
      "|        King Ltd|              1|       0.0|\n",
      "|   Cannon-Benson|              1|       1.0|\n",
      "|Barron-Robertson|              1|       1.0|\n",
      "|   Sexton-Golden|              0|       1.0|\n",
      "|        Wood LLC|              1|       0.0|\n",
      "|   Parks-Robbins|              1|       1.0|\n",
      "+----------------+---------------+----------+\n",
      "\n"
     ]
    }
   ],
   "source": [
    "results2['Company', 'Account_Manager', 'prediction'].show()"
   ]
  },
  {
   "cell_type": "code",
   "execution_count": null,
   "metadata": {},
   "outputs": [],
   "source": []
  }
 ],
 "metadata": {
  "anaconda-cloud": {},
  "kernelspec": {
   "display_name": "Python 3 (ipykernel)",
   "language": "python",
   "name": "python3"
  },
  "language_info": {
   "codemirror_mode": {
    "name": "ipython",
    "version": 3
   },
   "file_extension": ".py",
   "mimetype": "text/x-python",
   "name": "python",
   "nbconvert_exporter": "python",
   "pygments_lexer": "ipython3",
   "version": "3.12.3"
  }
 },
 "nbformat": 4,
 "nbformat_minor": 1
}
